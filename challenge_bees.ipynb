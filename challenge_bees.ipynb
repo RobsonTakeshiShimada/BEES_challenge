{
 "cells": [
  {
   "cell_type": "code",
   "execution_count": null,
   "id": "03262fec",
   "metadata": {},
   "outputs": [],
   "source": [
    "import pandas as pd\n",
    "\n",
    "# Caminhos dos arquivos parquet\n",
    "file1 = \"historical_orders.parquet\"\n",
    "file2 = \"august_total_sales.parquet\"\n",
    "file3 = \"august_with_missing_order_days.parquet\"\n",
    "\n",
    "# Lendo os arquivos\n",
    "historical_orders = pd.read_parquet(file1, engine=\"pyarrow\")\n",
    "august_total_sales = pd.read_parquet(file2, engine=\"pyarrow\")\n",
    "august_missing_days = pd.read_parquet(file3, engine=\"pyarrow\")\n",
    "\n",
    "# Visualizando os dataframes\n",
    "print(\"historical_orders:\")\n",
    "display(historical_orders.head())\n",
    "\n",
    "print(\"august_total_sales:\")\n",
    "display(august_total_sales.head())\n",
    "\n",
    "print(\"august_with_missing_order_days:\")\n",
    "display(august_missing_days.head())\n"
   ]
  }
 ],
 "metadata": {
  "language_info": {
   "name": "python"
  }
 },
 "nbformat": 4,
 "nbformat_minor": 5
}
